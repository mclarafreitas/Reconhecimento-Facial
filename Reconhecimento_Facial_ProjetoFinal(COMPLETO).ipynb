{
  "nbformat": 4,
  "nbformat_minor": 0,
  "metadata": {
    "colab": {
      "provenance": [],
      "mount_file_id": "1tFUoKAemGjGcXScddDmVI1Bik1oeNlYj",
      "authorship_tag": "ABX9TyN0A/qrVpxKYClAMWMWTakG",
      "include_colab_link": true
    },
    "kernelspec": {
      "name": "python3",
      "display_name": "Python 3"
    },
    "language_info": {
      "name": "python"
    }
  },
  "cells": [
    {
      "cell_type": "markdown",
      "metadata": {
        "id": "view-in-github",
        "colab_type": "text"
      },
      "source": [
        "<a href=\"https://colab.research.google.com/github/mclarafreitas/Reconhecimento-Facial/blob/main/Reconhecimento_Facial_ProjetoFinal(COMPLETO).ipynb\" target=\"_parent\"><img src=\"https://colab.research.google.com/assets/colab-badge.svg\" alt=\"Open In Colab\"/></a>"
      ]
    },
    {
      "cell_type": "code",
      "execution_count": 5,
      "metadata": {
        "colab": {
          "base_uri": "https://localhost:8080/"
        },
        "id": "TURlr84Ip2HL",
        "outputId": "ef1e84a4-574a-4546-9347-b9b7aa0b8a0f"
      },
      "outputs": [
        {
          "output_type": "stream",
          "name": "stdout",
          "text": [
            "Drive already mounted at /content/drive; to attempt to forcibly remount, call drive.mount(\"/content/drive\", force_remount=True).\n",
            "/content/drive/MyDrive/Treinamento/clara_treinamento/IMG_5029.JPG\n",
            "/content/drive/MyDrive/Treinamento/clara_treinamento/IMG_5035.JPG\n",
            "/content/drive/MyDrive/Treinamento/clara_treinamento/IMG_5030.JPG\n",
            "/content/drive/MyDrive/Treinamento/clara_treinamento/IMG_5034.JPG\n",
            "/content/drive/MyDrive/Treinamento/clara_treinamento/IMG_5040.JPG\n",
            "/content/drive/MyDrive/Treinamento/clara_treinamento/IMG_5041.JPG\n",
            "/content/drive/MyDrive/Treinamento/clara_treinamento/IMG_5043.JPG\n",
            "/content/drive/MyDrive/Treinamento/clara_treinamento/IMG_5042.JPG\n",
            "1/1 [==============================] - 1s 815ms/step\n",
            "Class: clara\n",
            "Confidence Score: 0.9988568\n"
          ]
        }
      ],
      "source": [
        "#REFERENCIA https://teachablemachine.withgoogle.com\n",
        "#Importação das bibliotecas\n",
        "from keras.models import load_model  # TensorFlow is required for Keras to work\n",
        "from PIL import Image, ImageOps  # Install pillow instead of PIL\n",
        "import numpy as np\n",
        "from google.colab import drive\n",
        "drive.mount('/content/drive')\n",
        "\n",
        "#Diretório das imagens no google drive\n",
        "import os\n",
        "\n",
        "caminho = '/content/drive/MyDrive/Treinamento/clara_treinamento/'\n",
        "\n",
        "# Percorre todos os arquivos e subdiretórios do diretório especificado\n",
        "for pasta_raiz, sub_pastas, arquivos in os.walk(caminho):\n",
        "    for arquivo in arquivos:\n",
        "        caminho_completo = os.path.join(pasta_raiz, arquivo)\n",
        "        print(caminho_completo)\n",
        "\n",
        "# Disable scientific notation for clarity #Configura as opções de impressão do numpy para evitar notação cientifica nos resultados\n",
        "np.set_printoptions(suppress=True)\n",
        "\n",
        "# Load the model #Carrega o modelo previamente treinado\n",
        "model = load_model(\"keras_model.h5\", compile=False)\n",
        "\n",
        "# Load the labels #Carrega os rótulos de cada classe\n",
        "class_names = open(\"labels.txt\", \"r\").readlines()\n",
        "\n",
        "#Essa linha cria uma matriz vazia com a forma (shape) de (1, 224, 224, 3). Essa matriz será usada para armazenar a imagem que será alimentada ao modelo.\n",
        "# Create the array of the right shape to feed into the keras model\n",
        "# The 'length' or number of images you can put into the array is\n",
        "# determined by the first position in the shape tuple, in this case 1\n",
        "data = np.ndarray(shape=(1, 224, 224, 3), dtype=np.float32)\n",
        "\n",
        "#Essa linha abre a imagem do caminho especificado (caminho_completo) usando a biblioteca PIL. A imagem é convertida para o modo RGB, se necessário.\n",
        "# Replace this with the path to your image\n",
        "image = Image.open(caminho_completo).convert(\"RGB\")\n",
        "\n",
        "#Essas linhas redimensionam a imagem para que tenha pelo menos o tamanho de (224, 224) e, em seguida, realiza um corte a partir do centro da imagem, se necessário, para ajustá-la ao tamanho desejado.\n",
        "# resizing the image to be at least 224x224 and then cropping from the center\n",
        "size = (224, 224)\n",
        "image = ImageOps.fit(image, size, Image.LANCZOS)\n",
        "\n",
        "#Essa linha converte a imagem para um array do NumPy.\n",
        "# turn the image into a numpy array\n",
        "image_array = np.asarray(image)\n",
        "\n",
        "#Essa linha normaliza o array da imagem, dividindo cada valor por 127,5 e subtraindo 1. Isso é feito para garantir que os valores estejam na faixa correta para o modelo.\n",
        "# Normalize the image\n",
        "normalized_image_array = (image_array.astype(np.float32) / 127.5) - 1\n",
        "\n",
        "#Essa linha atribui o array normalizado da imagem à primeira posição da matriz data.\n",
        "# Load the image into the array\n",
        "data[0] = normalized_image_array\n",
        "\n",
        "#Essas linhas usam o modelo carregado para fazer uma previsão com a imagem fornecida. A função predict() retorna uma matriz de probabilidades para cada classe. np.argmax() é usado para obter\n",
        "# o índice da classe com a maior probabilidade. O nome da classe correspondente é obtido a partir da lista de rótulos (class_names). A pontuação de confiança (confidence_score) é obtida a partir da matriz de probabilidades.\n",
        "# Predicts the model\n",
        "prediction = model.predict(data)\n",
        "index = np.argmax(prediction)\n",
        "class_name = class_names[index]\n",
        "confidence_score = prediction[0][index]\n",
        "\n",
        "#Essas linhas imprimem o nome da classe e a pontuação de confiança da previsão.\n",
        "#O nome da classe é impresso a partir do terceiro caractere (class_name[2:]) para remover qualquer caractere indesejado no início do rótulo. A pontuação de confiança é impressa em seguida.\n",
        "# Print prediction and confidence score\n",
        "print(\"Class:\", class_name[2:], end=\"\")\n",
        "print(\"Confidence Score:\", confidence_score)\n"
      ]
    }
  ]
}